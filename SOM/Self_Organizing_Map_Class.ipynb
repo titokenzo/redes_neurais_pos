{
  "nbformat": 4,
  "nbformat_minor": 0,
  "metadata": {
    "colab": {
      "name": "Self-Organising Map.ipynb",
      "provenance": [],
      "collapsed_sections": [],
      "include_colab_link": true
    },
    "kernelspec": {
      "display_name": "Python 3",
      "language": "python",
      "name": "python3"
    }
  },
  "cells": [
    {
      "cell_type": "markdown",
      "metadata": {
        "id": "view-in-github",
        "colab_type": "text"
      },
      "source": [
        "<a href=\"https://colab.research.google.com/github/titokenzo/redes_neurais_pos/blob/main/SOM/Self_Organizing_Map_Class.ipynb\" target=\"_parent\"><img src=\"https://colab.research.google.com/assets/colab-badge.svg\" alt=\"Open In Colab\"/></a>"
      ]
    },
    {
      "cell_type": "code",
      "metadata": {
        "id": "bwXHX8FnWJGb",
        "colab": {
          "base_uri": "https://localhost:8080/"
        },
        "outputId": "f6363582-7175-4b7b-cee7-a3a92949bb59"
      },
      "source": [
        "!git clone https://github.com/titokenzo/redes_neurais_pos.git"
      ],
      "execution_count": null,
      "outputs": [
        {
          "output_type": "stream",
          "text": [
            "Cloning into 'redes_neurais_pos'...\n",
            "remote: Enumerating objects: 65, done.\u001b[K\n",
            "remote: Counting objects: 100% (65/65), done.\u001b[K\n",
            "remote: Compressing objects: 100% (58/58), done.\u001b[K\n",
            "remote: Total 65 (delta 13), reused 2 (delta 1), pack-reused 0\u001b[K\n",
            "Unpacking objects: 100% (65/65), done.\n"
          ],
          "name": "stdout"
        }
      ]
    },
    {
      "cell_type": "markdown",
      "metadata": {
        "id": "QOVCUDYJJBJT"
      },
      "source": [
        "# Self-Organizing Maps Network\n",
        "\n",
        "Código exemplo da rede neural SOM.\n",
        "\n",
        "Código adaptado do site:\n",
        "\n",
        "http://blog.yhat.com/posts/self-organizing-maps-2.html"
      ]
    },
    {
      "cell_type": "code",
      "metadata": {
        "id": "uabMU5RTJBJY"
      },
      "source": [
        "import numpy as np\n",
        "from matplotlib import pyplot as plt\n",
        "from matplotlib import patches as patches\n",
        "import pandas as pd\n",
        "from sklearn import preprocessing\n",
        "from matplotlib.cm import get_cmap"
      ],
      "execution_count": null,
      "outputs": []
    },
    {
      "cell_type": "markdown",
      "metadata": {
        "id": "LRk1I_KxJBJn"
      },
      "source": [
        "##Configuração da SOM\n",
        "\n",
        "Escolhe:\n",
        "1. Tamanho do mapa da SOM: X e Y\n",
        "2. Número de iterações\n",
        "3. Taxa de aprendizado\n",
        "4. Tipo de normalização dos dados\n",
        "5. Largura inicial (Sigma) \n",
        "6. Constante de tempo que descresce com o tempo"
      ]
    },
    {
      "cell_type": "code",
      "metadata": {
        "id": "knhfHggjJBJq"
      },
      "source": [
        "class SOM:\n",
        "    def __init__(self, X_dimension, Y_dimension, train_data, number_of_features=0, labels_data=None):\n",
        "        self.has_labels = False\n",
        "        self.number_of_features = number_of_features\n",
        "        self.train_data = train_data\n",
        "        if(labels_data is not None):\n",
        "            self.labels_data = labels_data\n",
        "            self.initialize_labels(X_dimension, Y_dimension)\n",
        "        #define o tamanho do mapa a partir de X_dimension e Y_dimension\n",
        "        self.network_dimensions = np.array([X_dimension, Y_dimension])\n",
        "        self.m = data.shape[1]\n",
        "        self.n = data.shape[0]\n",
        "        \n",
        "        #cria raio inicial de acordo com o tamanho inicial do mapa da SOM\n",
        "        self.initial_radius = max(self.network_dimensions[0], self.network_dimensions[1]) / 2\n",
        "        self.initialize_weigths()\n",
        "\n",
        "    def initialize_weigths(self):\n",
        "        # inicialização dos pesos m=dimensional pra cada neurônio da matriz SOM\n",
        "        self.net = np.random.random((self.network_dimensions[0], self.network_dimensions[1], self.m))\n",
        "        #print(\"Net:\",self.net)\n",
        "    \n",
        "    def initialize_labels(self, X_dimension, Y_dimension):\n",
        "        #transforma rótulos do conjunto de treinamento em numeros pra mostrar no mapa\n",
        "        le = preprocessing.LabelEncoder()\n",
        "        le.fit(labels.values)\n",
        "        self.training_labels_transformed = le.transform(labels.values)\n",
        "        self.classes = le.classes_\n",
        "        #modifica para a quantidade de \"labels\" existentes no vetor\n",
        "        self.number_of_features = len(self.classes)\n",
        "        self.label_map = np.zeros((X_dimension, Y_dimension, len(self.classes)))\n",
        "        self.has_labels = True\n",
        "        #print(\"Classes:\", self.classes)\n",
        "        \n",
        "    def train(self, number_of_epochs, initial_learning_rate=0.01, distance_calculation=\"Euclidiana\"):\n",
        "        \"\"\"\n",
        "        Função de treinamento da SOM.\n",
        "\n",
        "        Parameters\n",
        "        ----------\n",
        "        number_of_epochs : int\n",
        "            Número de iterações.\n",
        "        initial_learning_rate : float, optional\n",
        "            Taxa de aprendizagem inicial. The default is 0.01.\n",
        "            É ajustada dentro da função.\n",
        "        distance_calculation : string, optional\n",
        "            Informa o tipo de cálculo para a distância. The default is Euclidiana.\n",
        "\n",
        "        Returns\n",
        "        -------\n",
        "        None.\n",
        "\n",
        "        \"\"\"\n",
        "        self.time_constant = number_of_epochs / np.log(self.initial_radius)\n",
        "        \n",
        "        for i in range(number_of_epochs):\n",
        "            #print('Epoch %d' % i)\n",
        "            #seleciona um exemplo aleatoriamente da base de dados\n",
        "            random_example = np.random.randint(0, self.n)\n",
        "            train_row = self.train_data.iloc[random_example].values.reshape(np.array([self.m, 1]))\n",
        "            #print(train_row)\n",
        "          \n",
        "            #calcula neurônio mais próximo a este exemplo (BMU)\n",
        "            bmu, bmu_idx = self.find_bmu(train_row)\n",
        "            #print(\"bmu={}, bmu_idx{}\".format(bmu, bmu_idx))\n",
        "            \n",
        "            if(self.has_labels):\n",
        "                #TODO self.register_example_class(random_example,)\n",
        "                #seleciona a classe do exemplo (Apenas pra vias de informação no mapa)\n",
        "                class_index = list(self.classes).index(self.labels_data[random_example])\n",
        "                lab = self.label_map[bmu_idx[0],bmu_idx[1]]  \n",
        "                lab[class_index] = lab[class_index]+1\n",
        "                #associa o neurônio a esta classe\n",
        "                self.label_map[bmu_idx[0],bmu_idx[1]] = lab\n",
        "            \n",
        "            # Decresce os parâmetros da SOM\n",
        "            radius = self.decay_radius(i)\n",
        "            learning_rate = self.decay_learning_rate(initial_learning_rate,i,number_of_epochs)\n",
        "            #r = decay_radius(init_radius, i, time_constant)\n",
        "            #l = decay_learning_rate(init_learning_rate, i, n_iterations)\n",
        "            \n",
        "            # Atualiza o vetor de Pesos da rede SOM para todos os neurônios da rede\n",
        "            for x in range(self.net.shape[0]):\n",
        "                for y in range(self.net.shape[1]):\n",
        "                    weight = self.net[x, y, :].reshape(self.m,1)\n",
        "                    # calcula a distância do neurônio ao neurônio vencedor\n",
        "                    if(distance_calculation==\"Euclidiana\"):\n",
        "                        w_dist = np.sum((np.array([x, y]) - bmu_idx) ** 2)\n",
        "                    else:\n",
        "                        w_dist = np.sum(abs(np.array([x, y]) - bmu_idx))\n",
        "                    # se distância está dentro do raio estipulado r^2\n",
        "                    if w_dist <= radius**2:\n",
        "                        # calcula a função de vizinhança\n",
        "                        influence = self.compute_neighborhood(w_dist, radius)\n",
        "                        # atualiza os pesos\n",
        "                        # w(t+1) = w(t) + (learning rate * h * distancia)\n",
        "                        new_weight = weight + (learning_rate * influence * (train_row - weight))\n",
        "                        # coloca o novo peso na rede na posição X,Y\n",
        "                        self.net[x, y, :] = new_weight.reshape(1, self.m)\n",
        "    \n",
        "    def find_bmu(self,train_row):\n",
        "        \"\"\"\n",
        "        Encontra o neurônio vencedor pra um dado vetor de entrada, t, na rede SOM\n",
        "    \n",
        "        Parameters\n",
        "        ----------\n",
        "        training_row : array\n",
        "            Vetor de entrada.\n",
        "        number_of_columns : int\n",
        "            DESCRIPTION.\n",
        "    \n",
        "        Returns\n",
        "        -------\n",
        "        bmu : TYPE\n",
        "            É o neurônio vencedor BMU.\n",
        "        bmu_idx : TYPE\n",
        "            É a coordenada do vetor na rede SOM.\n",
        "    \n",
        "        \"\"\"\n",
        "        bmu_idx = np.array([0, 0])\n",
        "        # define um número grande pra distância mínima inicial \n",
        "        min_dist = np.iinfo(np.int).max   \n",
        "        # calcula a distância entre cada neurônio e a entrada\n",
        "        # for (k = 1,..., K)\n",
        "        for x in range(self.net.shape[0]):\n",
        "            for y in range(self.net.shape[1]):\n",
        "                weight = self.net[x, y, :].reshape(self.m, 1)\n",
        "                sq_dist = np.sum((weight - train_row) ** 2)\n",
        "                if sq_dist < min_dist:\n",
        "                    min_dist = sq_dist\n",
        "                    bmu_idx = np.array([x, y])\n",
        "        # obtém o vetor correspondente a bmu_idx\n",
        "        bmu = self.net[bmu_idx[0], bmu_idx[1], :].reshape(self.m, 1)\n",
        "        return (bmu, bmu_idx)\n",
        "    \n",
        "    def decay_radius(self, iteration):\n",
        "        return self.initial_radius * np.exp(-iteration / self.time_constant)\n",
        "    \n",
        "    def decay_learning_rate(self, initial_learning_rate, iteration, number_of_epochs):\n",
        "        return initial_learning_rate * np.exp(-iteration / number_of_epochs)\n",
        "    \n",
        "    def compute_neighborhood(self, distance, radius):\n",
        "        return np.exp(-distance / (2* (radius**2)))\n",
        "    \n",
        "    def show_plot(self, fig, number_of_epochs):\n",
        "        #fig = plt.figure()\n",
        "        # setup axes\n",
        "        ax = fig.add_subplot(111, aspect='equal')\n",
        "        ax.set_xlim((0, som.net.shape[0]+1))\n",
        "        ax.set_ylim((0, som.net.shape[1]+1))\n",
        "        ax.set_title('Self-Organising Map after %d iterations' % number_of_epochs)\n",
        "        \n",
        "        cores = get_cmap('tab20').colors + get_cmap('tab20b').colors\n",
        "        ajusta_cores = int(len(cores) / len(som.classes))\n",
        "        \n",
        "        # plot the rectangles\n",
        "        for x in range(1, som.net.shape[0] + 1):\n",
        "            for y in range(1, som.net.shape[1] + 1):\n",
        "                #print(som.net[x-1,y-1,:])\n",
        "                m = som.label_map[x-1,y-1]\n",
        "                name_class = som.classes[np.argmax(m)]\n",
        "                \n",
        "                cor = cores[np.argmax(m) * ajusta_cores] \n",
        "                #print(\"Classe:{}, ArgMax:{}, Valores:{}\".format(name_class, np.argmax(m), som.net[x-1,y-1,:]))\n",
        "                ax.add_patch(patches.Rectangle((x-0.5, y-0.5), 1, 1,\n",
        "                             facecolor=cor,\n",
        "                             alpha = np.max(som.net[x-1,y-1,:]),\n",
        "                             edgecolor='none',label='sdsad'))\n",
        "                ax.text(x,y, name_class,\n",
        "                        horizontalalignment='left', verticalalignment='center',\n",
        "                        fontsize=6, color='black')\n",
        "        plt.show()"
      ],
      "execution_count": null,
      "outputs": []
    },
    {
      "cell_type": "markdown",
      "metadata": {
        "id": "HOrqM1GTWVbQ"
      },
      "source": [
        "## Carrega base de dados\n",
        "\n",
        "Carrega base de dados e retorna os dados normalizados. \n",
        "\n",
        "Note que não há divisão entre treinamento e teste, pois se trata de um problema não supervisionado. Toda a base de dados é utilizada pra treinar o modelo."
      ]
    },
    {
      "cell_type": "code",
      "metadata": {
        "id": "JS23aYasGDvd"
      },
      "source": [
        "def load_data(url, normalize_data=True, normalize_by_column=False):\n",
        "    '''\n",
        "    Carrega (e normaliza) a base de dados (csv).\n",
        "\n",
        "    Parameters\n",
        "    ----------\n",
        "    url : String\n",
        "        Caminho do arquivo.\n",
        "    normalize_data : boolean\n",
        "        Se True (padrão), normaliza em relação a toda a base de dados.\n",
        "        Se False, normaliza entre 0 e 1, levando em conta cada coluna.\n",
        "    normalize_by_column : boolean\n",
        "        DESCRIPTION.\n",
        "\n",
        "    Returns\n",
        "    -------\n",
        "    normalized_data : list\n",
        "        DESCRIPTION.\n",
        "    labels : list\n",
        "        DESCRIPTION.\n",
        "\n",
        "    '''\n",
        "    df = pd.read_csv(url, header=None)\n",
        "    #remove a ultima coluna (dados)\n",
        "    data = df[df.columns[:-1]]\n",
        "    #retorna a última coluna (rótulos)\n",
        "    labels = df[df.columns[-1]]\n",
        "    # check if data needs to be normalised\n",
        "    if normalize_data:\n",
        "      if normalize_by_column:\n",
        "        # normalise along each column\n",
        "        col_maxes = data.max(axis=0)\n",
        "        normalized_data = (data - col_maxes.min()) / (col_maxes.max() - col_maxes.min())\n",
        "      else:\n",
        "        # normalise entire dataset\n",
        "        normalized_data = (data - data.min()) / (data.max() - data.min())\n",
        "    return normalized_data, labels\n"
      ],
      "execution_count": null,
      "outputs": []
    },
    {
      "cell_type": "markdown",
      "metadata": {
        "id": "_Xb_u-wEJBJ5"
      },
      "source": [
        "Rede Neural SOM"
      ]
    },
    {
      "cell_type": "code",
      "metadata": {
        "id": "dg-lruNmJBJ6"
      },
      "source": [
        "def find_bmu(t, net, m):\n",
        "    \"\"\"\n",
        "        Encontra o neurônio vencedor pra um dado vetor de entrada, t, na rede SOM\n",
        "        Retorna: (bmu, bmu_idx) onde bmu é o neurônio vencedor BMU\n",
        "                 e bmu_idx é a coordenada do vetor na rede SOM\n",
        "    \"\"\"\n",
        "    bmu_idx = np.array([0, 0])\n",
        "    # set the initial minimum distance to a huge number\n",
        "    # define um número grande pra distância mínima inicial \n",
        "    min_dist = np.iinfo(np.int).max   \n",
        "    # calcula a distância entre cada neurônio e a entrada\n",
        "    for x in range(net.shape[0]):\n",
        "        for y in range(net.shape[1]):\n",
        "            w = net[x, y, :].reshape(m, 1)\n",
        "            sq_dist = np.sum((w - t) ** 2)\n",
        "            if sq_dist < min_dist:\n",
        "                min_dist = sq_dist\n",
        "                bmu_idx = np.array([x, y])\n",
        "    # obtém o vetor correspondente a bmu_idx\n",
        "    bmu = net[bmu_idx[0], bmu_idx[1], :].reshape(m, 1)\n",
        "    # retorna (bmu, bmu_idx)\n",
        "    return (bmu, bmu_idx)"
      ],
      "execution_count": null,
      "outputs": []
    },
    {
      "cell_type": "code",
      "metadata": {
        "id": "gc_SyspDJBKB"
      },
      "source": [
        "def decay_radius(initial_radius, i, time_constant):\n",
        "    return initial_radius * np.exp(-i / time_constant)\n",
        "\n",
        "def decay_learning_rate(initial_learning_rate, i, n_iterations):\n",
        "    return initial_learning_rate * np.exp(-i / n_iterations)\n",
        "\n",
        "#neighborhood\n",
        "def compute_neighborhood(distance, radius):\n",
        "    return np.exp(-distance / (2* (radius**2)))"
      ],
      "execution_count": null,
      "outputs": []
    },
    {
      "cell_type": "markdown",
      "metadata": {
        "id": "64wiui_nJBKV"
      },
      "source": [
        "Aprendizado SOM"
      ]
    },
    {
      "cell_type": "markdown",
      "metadata": {
        "id": "wGQFFZH-2Tvk"
      },
      "source": [
        "## Algoritmo da rede SOM\n",
        "\n",
        "\n",
        "Etapa 0: posicione aleatoriamente os neurônios no mapa da rede SOM.\n",
        "\n",
        "Etapa 1: selecione um exemplo da base de dados, aleatoriamente ou sistematicamente no conjunto de dados\n",
        "\n",
        "Etapa 2: encontre o neurônio mais próximo do ponto de dados escolhido. Esse neurônio é chamado de Unidade de Melhor Similaridade (BMU - Best Unit Matching).\n",
        "\n",
        "Etapa 3: Mova a BMU para mais perto desse ponto de dados. A distância movida pela BMU é determinada por uma taxa de aprendizado, que diminui após cada iteração.\n",
        "\n",
        "Etapa 4: aproxime também os vizinhos da BMU desse ponto de dados, com os vizinhos mais distantes se movendo menos. Os vizinhos são identificados usando um raio ao redor da BMU (função de vizinhança), e o valor desse raio diminui após cada iteração.\n",
        "\n",
        "Etapa 5: atualize a taxa de aprendizado e o raio da BMU, antes de repetir as etapas 1 a 4. Repita essas etapas até que as posições dos neurônios tenham sido estabilizadas."
      ]
    },
    {
      "cell_type": "code",
      "metadata": {
        "id": "VWQbRgM3JBKW"
      },
      "source": [
        "local = 'redes_neurais_pos/RBF/iris.csv'\n",
        "#local = 'redes_neurais_pos/SOM/letter.csv'\n",
        "data,labels = load_data(url=local, normalize_data=True, normalize_by_column=False)\n",
        "iterations = 10000\n",
        "\n",
        "som = SOM(X_dimension=10, Y_dimension=10, train_data=data, labels_data=labels)\n",
        "\n",
        "#som.train(number_of_epochs=10000, initial_learning_rate=0.01, do_reset_weights=False):\n",
        "som.train(number_of_epochs=iterations)"
      ],
      "execution_count": null,
      "outputs": []
    },
    {
      "cell_type": "markdown",
      "metadata": {
        "id": "rpTNAb_BJBKb"
      },
      "source": [
        "## Visualiza o mapa criado"
      ]
    },
    {
      "cell_type": "code",
      "metadata": {
        "id": "ppCLRrW2JBKd",
        "colab": {
          "base_uri": "https://localhost:8080/",
          "height": 281
        },
        "outputId": "819fec50-0239-463d-a633-2ac8190ec641"
      },
      "source": [
        "fig = plt.figure()\n",
        "som.show_plot(fig, iterations)"
      ],
      "execution_count": null,
      "outputs": [
        {
          "output_type": "display_data",
          "data": {
            "image/png": "[encoded data removed]",
            "text/plain": [
              "<Figure size 432x288 with 1 Axes>"
            ]
          },
          "metadata": {
            "tags": [],
            "needs_background": "light"
          }
        }
      ]
    },
    {
      "cell_type": "markdown",
      "metadata": {
        "id": "MBVlGFJWZ_AY"
      },
      "source": [
        "#Mini-Projeto rede SOM:\n",
        "\n",
        "DATA DE ENTREGA: 02/12/2020\n",
        "\n",
        "\n",
        "1. Execute a Redes Neurais SOM acima com a base de dados Iris. Mostre 5 configurações de tamanho de mapa diferentes."
      ]
    },
    {
      "cell_type": "code",
      "metadata": {
        "id": "h6jLERMbChi2"
      },
      "source": [
        ""
      ],
      "execution_count": null,
      "outputs": []
    },
    {
      "cell_type": "markdown",
      "metadata": {
        "id": "tUMR31r0CbB9"
      },
      "source": [
        "2. Calcule a distância de Manhatan no lugar da euclidiana. Mostre os mesmos 5 mapas da questão anterior\n"
      ]
    },
    {
      "cell_type": "code",
      "metadata": {
        "id": "5E6Dng-3Ckqf"
      },
      "source": [
        ""
      ],
      "execution_count": null,
      "outputs": []
    },
    {
      "cell_type": "markdown",
      "metadata": {
        "id": "KiaZQ6FOCpi8"
      },
      "source": [
        "3. Apresente os mesmos mapas da primeira questão pra outra base de dados de sua escolha. (Ex: Wine, Diabetes, Breast-Cancer, Letter, Digits)\n",
        "\n",
        " \n",
        " "
      ]
    },
    {
      "cell_type": "code",
      "metadata": {
        "id": "zSbPTGi7CrRz"
      },
      "source": [
        ""
      ],
      "execution_count": null,
      "outputs": []
    }
  ]
}