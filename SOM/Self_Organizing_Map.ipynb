{
  "nbformat": 4,
  "nbformat_minor": 0,
  "metadata": {
    "colab": {
      "name": "Self-Organising Map.ipynb",
      "provenance": [],
      "collapsed_sections": [],
      "include_colab_link": true
    },
    "kernelspec": {
      "display_name": "Python 3",
      "language": "python",
      "name": "python3"
    }
  },
  "cells": [
    {
      "cell_type": "markdown",
      "metadata": {
        "id": "view-in-github",
        "colab_type": "text"
      },
      "source": [
        "<a href=\"https://colab.research.google.com/github/titokenzo/redes_neurais_pos/blob/main/SOM/Self_Organizing_Map.ipynb\" target=\"_parent\"><img src=\"https://colab.research.google.com/assets/colab-badge.svg\" alt=\"Open In Colab\"/></a>"
      ]
    },
    {
      "cell_type": "code",
      "metadata": {
        "id": "bwXHX8FnWJGb",
        "colab": {
          "base_uri": "https://localhost:8080/"
        },
        "outputId": "833e20e2-031e-45f8-ff2b-9b2ba73ada97"
      },
      "source": [
        "!git clone https://github.com/titokenzo/redes_neurais_pos.git"
      ],
      "execution_count": null,
      "outputs": [
        {
          "output_type": "stream",
          "text": [
            "Cloning into 'redes_neurais_pos'...\n",
            "remote: Enumerating objects: 41, done.\u001b[K\n",
            "remote: Counting objects: 100% (41/41), done.\u001b[K\n",
            "remote: Compressing objects: 100% (35/35), done.\u001b[K\n",
            "remote: Total 41 (delta 5), reused 0 (delta 0), pack-reused 0\u001b[K\n",
            "Unpacking objects: 100% (41/41), done.\n"
          ],
          "name": "stdout"
        }
      ]
    },
    {
      "cell_type": "markdown",
      "metadata": {
        "id": "QOVCUDYJJBJT"
      },
      "source": [
        "# Self-Organizing Maps Network\n",
        "\n",
        "Código exemplo da rede neural SOM.\n",
        "\n",
        "Código adaptado do site:\n",
        "\n",
        "http://blog.yhat.com/posts/self-organizing-maps-2.html"
      ]
    },
    {
      "cell_type": "code",
      "metadata": {
        "id": "uabMU5RTJBJY"
      },
      "source": [
        "import numpy as np\n",
        "from matplotlib import pyplot as plt\n",
        "from matplotlib import patches as patches\n",
        "import pandas as pd\n",
        "from sklearn import preprocessing"
      ],
      "execution_count": null,
      "outputs": []
    },
    {
      "cell_type": "markdown",
      "metadata": {
        "id": "LRk1I_KxJBJn"
      },
      "source": [
        "##Configuração da SOM\n",
        "\n",
        "Escolhe:\n",
        "1. Tamanho do mapa da SOM: X e Y\n",
        "2. Número de iterações\n",
        "3. Taxa de aprendizado\n",
        "4. Tipo de normalização dos dados\n",
        "5. Largura inicial (Sigma) \n",
        "6. Constante de tempo que descresce com o tempo"
      ]
    },
    {
      "cell_type": "code",
      "metadata": {
        "id": "knhfHggjJBJq"
      },
      "source": [
        "#Tamanho do mapa\n",
        "X = 5\n",
        "Y = 5\n",
        "network_dimensions = np.array([X, Y])\n",
        "\n",
        "\n",
        "n_iterations = 10000\n",
        "#taxa de aprendizado\n",
        "init_learning_rate = 0.1\n",
        "\n",
        "#Normalização dos dados\n",
        "normalize_data = True\n",
        "# se True, normaliza em relação a toda a base de dados\n",
        "# se False, normaliza entre [0 1] levando em conta cada coluna\n",
        "normalize_by_column = False\n",
        "\n",
        "#cria raio inicial de acordo com o tamanho inicial do mapa da SOM\n",
        "init_radius = max(network_dimensions[0], network_dimensions[1]) / 2\n",
        "\n",
        "#constante de tempo que decai com o tempo\n",
        "time_constant = n_iterations / np.log(init_radius)"
      ],
      "execution_count": null,
      "outputs": []
    },
    {
      "cell_type": "markdown",
      "metadata": {
        "id": "HOrqM1GTWVbQ"
      },
      "source": [
        "## Carrega base de dados\n",
        "\n",
        "Carrega base de dados e retorna os dados normalizados. \n",
        "\n",
        "Note que não há divisão entre treinamento e teste, pois se trata de um problema não supervisionado. Toda a base de dados é utilizada pra treinar o modelo."
      ]
    },
    {
      "cell_type": "code",
      "metadata": {
        "id": "JS23aYasGDvd"
      },
      "source": [
        "#carrega a base de dados\n",
        "def load_data(url, normalize_data,normalize_by_column):\n",
        "    df = pd.read_csv(url,  header=None)\n",
        "    #remove a ultima coluna (dados)\n",
        "    data = df[df.columns[:-1]]\n",
        "    \n",
        "    #retorna a última coluna (rótulos)\n",
        "    labels = df[df.columns[-1]]\n",
        "\n",
        "    # check if data needs to be normalised\n",
        "    if normalize_data:\n",
        "      if normalize_by_column:\n",
        "        # normalise along each column\n",
        "        col_maxes = data.max(axis=0)\n",
        "        normalized_data = (data - col_maxes.min()) / (col_maxes.max() - col_maxes.min())\n",
        "      else:\n",
        "        # normalise entire dataset\n",
        "        normalized_data = (data - data.min()) / (data.max() - data.min())\n",
        "\n",
        "    return normalized_data, labels\n"
      ],
      "execution_count": null,
      "outputs": []
    },
    {
      "cell_type": "markdown",
      "metadata": {
        "id": "_Xb_u-wEJBJ5"
      },
      "source": [
        "Rede Neural SOM"
      ]
    },
    {
      "cell_type": "code",
      "metadata": {
        "id": "dg-lruNmJBJ6"
      },
      "source": [
        "def find_bmu(t, net, m):\n",
        "    \"\"\"\n",
        "        Encontra o neurônio vencedor pra um dado vetor de entrada, t, na rede SOM\n",
        "        Retorna: (bmu, bmu_idx) onde bmu é o neurônio vencedor BMU\n",
        "                 e bmu_idx é a coordenada do vetor na rede SOM\n",
        "    \"\"\"\n",
        "    bmu_idx = np.array([0, 0])\n",
        "    # set the initial minimum distance to a huge number\n",
        "    # define um número grande pra distância mínima inicial \n",
        "    min_dist = np.iinfo(np.int).max   \n",
        "    # calcula a distância entre cada neurônio e a entrada\n",
        "    for x in range(net.shape[0]):\n",
        "        for y in range(net.shape[1]):\n",
        "            w = net[x, y, :].reshape(m, 1)\n",
        "            sq_dist = np.sum((w - t) ** 2)\n",
        "            if sq_dist < min_dist:\n",
        "                min_dist = sq_dist\n",
        "                bmu_idx = np.array([x, y])\n",
        "    # obtém o vetor correspondente a bmu_idx\n",
        "    bmu = net[bmu_idx[0], bmu_idx[1], :].reshape(m, 1)\n",
        "    # retorna (bmu, bmu_idx)\n",
        "    return (bmu, bmu_idx)"
      ],
      "execution_count": null,
      "outputs": []
    },
    {
      "cell_type": "code",
      "metadata": {
        "id": "gc_SyspDJBKB"
      },
      "source": [
        "def decay_radius(initial_radius, i, time_constant):\n",
        "    return initial_radius * np.exp(-i / time_constant)"
      ],
      "execution_count": null,
      "outputs": []
    },
    {
      "cell_type": "code",
      "metadata": {
        "id": "GKxgegn3JBKJ"
      },
      "source": [
        "def decay_learning_rate(initial_learning_rate, i, n_iterations):\n",
        "    return initial_learning_rate * np.exp(-i / n_iterations)"
      ],
      "execution_count": null,
      "outputs": []
    },
    {
      "cell_type": "code",
      "metadata": {
        "id": "Rkv31WROJBKS"
      },
      "source": [
        "#neighborhood\n",
        "def compute_neighborhood(distance, radius):\n",
        "    return np.exp(-distance / (2* (radius**2)))"
      ],
      "execution_count": null,
      "outputs": []
    },
    {
      "cell_type": "markdown",
      "metadata": {
        "id": "64wiui_nJBKV"
      },
      "source": [
        "Aprendizado SOM"
      ]
    },
    {
      "cell_type": "markdown",
      "metadata": {
        "id": "wGQFFZH-2Tvk"
      },
      "source": [
        "## Algoritmo da rede SOM\n",
        "\n",
        "\n",
        "Etapa 0: posicione aleatoriamente os neurônios no mapa da rede SOM.\n",
        "\n",
        "Etapa 1: selecione um exemplo da base de dados, aleatoriamente ou sistematicamente no conjunto de dados\n",
        "\n",
        "Etapa 2: encontre o neurônio mais próximo do ponto de dados escolhido. Esse neurônio é chamado de Unidade de Melhor Similaridade (BMU - Best Unit Matching).\n",
        "\n",
        "Etapa 3: Mova a BMU para mais perto desse ponto de dados. A distância movida pela BMU é determinada por uma taxa de aprendizado, que diminui após cada iteração.\n",
        "\n",
        "Etapa 4: aproxime também os vizinhos da BMU desse ponto de dados, com os vizinhos mais distantes se movendo menos. Os vizinhos são identificados usando um raio ao redor da BMU (função de vizinhança), e o valor desse raio diminui após cada iteração.\n",
        "\n",
        "Etapa 5: atualize a taxa de aprendizado e o raio da BMU, antes de repetir as etapas 1 a 4. Repita essas etapas até que as posições dos neurônios tenham sido estabilizadas."
      ]
    },
    {
      "cell_type": "code",
      "metadata": {
        "id": "VWQbRgM3JBKW"
      },
      "source": [
        "local = 'redes_neurais_pos/RBF/iris.csv'\n",
        "\n",
        "data,labels = load_data(local, normalize_data,normalize_by_column)\n",
        "\n",
        "# pega tamanho da base de dados\n",
        "m = data.shape[1]\n",
        "n = data.shape[0]\n",
        "\n",
        "#transforma rótulos do conjunto de treinamento em numeros pra mostrar no mapa\n",
        "le = preprocessing.LabelEncoder()\n",
        "le.fit(labels.values)\n",
        "training_labels_transformed = le.transform(labels.values)\n",
        "c = le.classes_\n",
        "\n",
        "label_map = np.zeros((X,Y,len(c)))\n",
        "# inicialização dos pesos m=dimensional pra cada neurônio da matriz SOM\n",
        "net = np.random.random((network_dimensions[0], network_dimensions[1], m))\n",
        "\n",
        "for i in range(n_iterations):\n",
        "    \n",
        "    #print('Iteration %d' % i)\n",
        "    \n",
        "    #seleciona um exemplo aleatoriamente da base de dados\n",
        "    random_example = np.random.randint(0, n)\n",
        "    t = data.iloc[random_example].values.reshape(np.array([m, 1]))\n",
        "  \n",
        "    #calcula neurônio mais próximo a este exemplo (BMU)\n",
        "    bmu, bmu_idx = find_bmu(t, net, m)\n",
        "    \n",
        "    #seleciona a classe do exemplo (Apenas pra vias de informação no mapa)\n",
        "    class_index = list(c).index(labels[random_example])\n",
        "    \n",
        "    lab = label_map[bmu_idx[0],bmu_idx[1]]  \n",
        "    lab[class_index] = lab[class_index]+1\n",
        "    #associa o neurônio a esta classe\n",
        "    label_map[bmu_idx[0],bmu_idx[1]] = lab\n",
        "    \n",
        "    # Decresce os parâmetros da SOM\n",
        "    r = decay_radius(init_radius, i, time_constant)\n",
        "    l = decay_learning_rate(init_learning_rate, i, n_iterations)\n",
        "    \n",
        "    # Atualiza o vetor de Pesos da rede SOM para todos os neurônios da rede\n",
        "    for x in range(net.shape[0]):\n",
        "        for y in range(net.shape[1]):\n",
        "            w = net[x, y, :].reshape(m, 1)\n",
        "            # calcula a distância do neurônio ao neurônio vencedor\n",
        "            w_dist = np.sum((np.array([x, y]) - bmu_idx) ** 2)\n",
        "            # se distância está dentro do raio estipulado r^2\n",
        "            if w_dist <= r**2:\n",
        "                # calcula a função de vizinhança\n",
        "                influence = compute_neighborhood(w_dist, r)\n",
        "                # atualiza os pesos\n",
        "                # w(t+1) = w(t) + (learning rate * h * distancia)\n",
        "                new_w = w + (l * influence * (t - w))\n",
        "                # coloca o novo peso na rede na posição X,Y\n",
        "                net[x, y, :] = new_w.reshape(1, m)"
      ],
      "execution_count": null,
      "outputs": []
    },
    {
      "cell_type": "markdown",
      "metadata": {
        "id": "rpTNAb_BJBKb"
      },
      "source": [
        "## Visualiza o mapa criado"
      ]
    },
    {
      "cell_type": "code",
      "metadata": {
        "id": "ppCLRrW2JBKd",
        "colab": {
          "base_uri": "https://localhost:8080/",
          "height": 281
        },
        "outputId": "b095202d-be4b-4265-df84-8ca03e777e11"
      },
      "source": [
        "fig = plt.figure()\n",
        "# setup axes\n",
        "ax = fig.add_subplot(111, aspect='equal')\n",
        "ax.set_xlim((0, net.shape[0]+1))\n",
        "ax.set_ylim((0, net.shape[1]+1))\n",
        "ax.set_title('Self-Organising Map after %d iterations' % n_iterations)\n",
        "\n",
        "# plot the rectangles\n",
        "for x in range(1, net.shape[0] + 1):\n",
        "    for y in range(1, net.shape[1] + 1):\n",
        "        #print(net[x-1,y-1,:])\n",
        "        m = label_map[x-1,y-1]\n",
        "        name_class = c[np.argmax(m)]\n",
        "        ax.add_patch(patches.Rectangle((x-0.5, y-0.5), 1, 1,\n",
        "                     facecolor=net[x-1,y-1,:],\n",
        "                     edgecolor='none',label='sdsad'))\n",
        "        ax.text(x,y, name_class,\n",
        "         horizontalalignment='center', verticalalignment='center',\n",
        "         fontsize=7, color='red')\n",
        "plt.show()"
      ],
      "execution_count": null,
      "outputs": [
        {
          "output_type": "display_data",
          "data": {
            "image/png": "[encoded data removed]",
            "text/plain": [
              "<Figure size 432x288 with 1 Axes>"
            ]
          },
          "metadata": {
            "tags": [],
            "needs_background": "light"
          }
        }
      ]
    },
    {
      "cell_type": "markdown",
      "metadata": {
        "id": "MBVlGFJWZ_AY"
      },
      "source": [
        "#Mini-Projeto rede SOM:\n",
        "\n",
        "DATA DE ENTREGA: 02/12/2020\n",
        "\n",
        "\n",
        "1. Execute a Redes Neurais SOM acima com a base de dados Iris. Mostre 5 configurações de tamanho de mapa diferentes."
      ]
    },
    {
      "cell_type": "code",
      "metadata": {
        "id": "h6jLERMbChi2"
      },
      "source": [
        ""
      ],
      "execution_count": null,
      "outputs": []
    },
    {
      "cell_type": "markdown",
      "metadata": {
        "id": "tUMR31r0CbB9"
      },
      "source": [
        "2. Calcule a distância de Manhatan no lugar da euclidiana. Mostre os mesmos 5 mapas da questão anterior\n"
      ]
    },
    {
      "cell_type": "code",
      "metadata": {
        "id": "5E6Dng-3Ckqf"
      },
      "source": [
        ""
      ],
      "execution_count": null,
      "outputs": []
    },
    {
      "cell_type": "markdown",
      "metadata": {
        "id": "KiaZQ6FOCpi8"
      },
      "source": [
        "3. Apresente os mesmos mapas da primeira questão pra outra base de dados de sua escolha. (Ex: Wine, Diabetes, Breast-Cancer, Letter, Digits)\n",
        "\n",
        " \n",
        " "
      ]
    },
    {
      "cell_type": "code",
      "metadata": {
        "id": "zSbPTGi7CrRz"
      },
      "source": [
        ""
      ],
      "execution_count": null,
      "outputs": []
    }
  ]
}